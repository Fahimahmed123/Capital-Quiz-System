{
 "cells": [
  {
   "cell_type": "markdown",
   "metadata": {},
   "source": [
    "Reads the file capital.txt for answers"
   ]
  },
  {
   "cell_type": "code",
   "execution_count": 2,
   "metadata": {},
   "outputs": [],
   "source": [
    "capital ={}\n",
    "with open('capital.txt', 'r') as fileobject:\n",
    "    \n",
    "    for fileline in fileobject:\n",
    "        # fileline = fileobject.readline()\n",
    "        # line = str(fileline)\n",
    "        parts = fileline.strip().split('The capital of')[1]\n",
    "        \n",
    "        state,cap = parts.split(' is ')\n",
    "        state= state.strip()\n",
    "        cap = cap.strip()\n",
    "        \n",
    "        capital[state] = cap\n",
    "\n",
    "fileobject.close()\n"
   ]
  },
  {
   "cell_type": "markdown",
   "metadata": {},
   "source": [
    "Question Preparation and Answer preparation\n"
   ]
  },
  {
   "cell_type": "code",
   "execution_count": null,
   "metadata": {},
   "outputs": [],
   "source": [
    "import random\n",
    "total_quiz_questions = 2\n",
    "\n",
    "for quiz_num in range(total_quiz_questions):\n",
    "    quiz_file = open(f'capital_quiz{quiz_num + 1}.pdf', 'w')\n",
    "    answer_file = open(f'capital_answers{quiz_num + 1}.pdf', 'w')\n",
    "\n",
    "    quiz_file.write('Name : \\nDate : \\n')\n",
    "    quiz_file.write((' '*20) + f'Fill up the Followings. Form - {quiz_num + 1}\\n')\n",
    "\n",
    "    state = list(capital.keys())\n",
    "    random.shuffle(state)\n",
    "\n",
    "    for questNum in range(35):\n",
    "        correct_answer = capital[state[questNum]]\n",
    "        wrong_answers = list(capital.values())\n",
    "        wrong_answers.remove(correct_answer)\n",
    "        wrong_answers = random.sample(wrong_answers, 3)\n",
    "        answer_options = [correct_answer] + wrong_answers\n",
    "        random.shuffle(answer_options)\n",
    "\n",
    "        quiz_file.write(f'{questNum + 1}. What is the capital of {state[questNum]}?\\n')\n",
    "        for i in range(4):\n",
    "            quiz_file.write(f\" {'ABCD'[i]}. {answer_options[i]}\\n\")\n",
    "        quiz_file.write('\\n')\n",
    "        answer_file.write(f'{questNum + 1}. {\"ABCD\"[answer_options.index(correct_answer)]} \\n')\n",
    "\n",
    "quiz_file.close()\n",
    "answer_file.close()\n",
    "\n",
    "\n"
   ]
  }
 ],
 "metadata": {
  "kernelspec": {
   "display_name": "Python 3",
   "language": "python",
   "name": "python3"
  },
  "language_info": {
   "codemirror_mode": {
    "name": "ipython",
    "version": 3
   },
   "file_extension": ".py",
   "mimetype": "text/x-python",
   "name": "python",
   "nbconvert_exporter": "python",
   "pygments_lexer": "ipython3",
   "version": "3.11.2"
  }
 },
 "nbformat": 4,
 "nbformat_minor": 2
}
